{
  "nbformat": 4,
  "nbformat_minor": 0,
  "metadata": {
    "colab": {
      "provenance": [],
      "authorship_tag": "ABX9TyPSrRCCMXnwjWphaGBRxUn6",
      "include_colab_link": true
    },
    "kernelspec": {
      "name": "python3",
      "display_name": "Python 3"
    },
    "language_info": {
      "name": "python"
    }
  },
  "cells": [
    {
      "cell_type": "markdown",
      "metadata": {
        "id": "view-in-github",
        "colab_type": "text"
      },
      "source": [
        "<a href=\"https://colab.research.google.com/github/Kaderye/SciPy-Tutorial/blob/main/SciPy.ipynb\" target=\"_parent\"><img src=\"https://colab.research.google.com/assets/colab-badge.svg\" alt=\"Open In Colab\"/></a>"
      ]
    },
    {
      "cell_type": "markdown",
      "source": [
        "# **SciPy Tutorial**"
      ],
      "metadata": {
        "id": "CvcD0MH_mx-6"
      }
    },
    {
      "cell_type": "markdown",
      "source": [
        "**SciPy** is a scientific computation library that uses NumPy underneath.\n",
        "\n",
        "SciPy stands for Scientific Python.\n",
        "\n",
        "SciPy was created by NumPy's creator Travis Olliphant.\n",
        "\n",
        "SciPy has optimized and added functions that are frequently used in NumPy and Data Science.\n",
        "\n",
        "**SciPy Codebase:** https://github.com/scipy/scipy"
      ],
      "metadata": {
        "id": "DVbZAo1Tm2tN"
      }
    },
    {
      "cell_type": "markdown",
      "source": [
        "**SciPy**\n",
        "\n",
        "---\n",
        "\n"
      ],
      "metadata": {
        "id": "Om83frjloRBw"
      }
    },
    {
      "cell_type": "code",
      "execution_count": null,
      "metadata": {
        "colab": {
          "base_uri": "https://localhost:8080/"
        },
        "id": "xz0jlDo0mlJE",
        "outputId": "4f21f768-867a-47c6-d3fd-e56c92da17cf"
      },
      "outputs": [
        {
          "output_type": "stream",
          "name": "stdout",
          "text": [
            "0.001\n"
          ]
        }
      ],
      "source": [
        "# find the number of cubic meters are in one liter\n",
        "from scipy import constants\n",
        "\n",
        "print(constants.liter)"
      ]
    },
    {
      "cell_type": "code",
      "source": [
        "# checking scipy version\n",
        "import scipy\n",
        "print(scipy.__version__)"
      ],
      "metadata": {
        "colab": {
          "base_uri": "https://localhost:8080/"
        },
        "id": "M-tGDslroj6d",
        "outputId": "e2f8b35b-dca6-4c92-bb2b-e6b3916dfdc8"
      },
      "execution_count": null,
      "outputs": [
        {
          "output_type": "stream",
          "name": "stdout",
          "text": [
            "1.15.3\n"
          ]
        }
      ]
    },
    {
      "cell_type": "markdown",
      "source": [
        "**SciPy Constants**\n",
        "\n",
        "---\n",
        "\n"
      ],
      "metadata": {
        "id": "d0qafXj5ntgO"
      }
    },
    {
      "cell_type": "code",
      "source": [
        "# print the constant value of PI\n",
        "from scipy import constants\n",
        "print(f\"The value of PI is {constants.pi}\")"
      ],
      "metadata": {
        "colab": {
          "base_uri": "https://localhost:8080/"
        },
        "id": "dj0cDS7sotBV",
        "outputId": "366c1703-0220-4f39-e4d9-da2b674dd7b7"
      },
      "execution_count": null,
      "outputs": [
        {
          "output_type": "stream",
          "name": "stdout",
          "text": [
            "The value of PI is 3.141592653589793\n"
          ]
        }
      ]
    },
    {
      "cell_type": "code",
      "source": [
        "# print the list of all constants\n",
        "from scipy import constants\n",
        "print(dir(constants))"
      ],
      "metadata": {
        "colab": {
          "base_uri": "https://localhost:8080/"
        },
        "id": "fnXSostqpGhz",
        "outputId": "d8cb86ad-2ec5-4561-c0f5-53250ee05932"
      },
      "execution_count": null,
      "outputs": [
        {
          "output_type": "stream",
          "name": "stdout",
          "text": [
            "['Avogadro', 'Boltzmann', 'Btu', 'Btu_IT', 'Btu_th', 'ConstantWarning', 'G', 'Julian_year', 'N_A', 'Planck', 'R', 'Rydberg', 'Stefan_Boltzmann', 'Wien', '__all__', '__builtins__', '__cached__', '__doc__', '__file__', '__loader__', '__name__', '__package__', '__path__', '__spec__', '_codata', '_constants', '_obsolete_constants', 'acre', 'alpha', 'angstrom', 'arcmin', 'arcminute', 'arcsec', 'arcsecond', 'astronomical_unit', 'atm', 'atmosphere', 'atomic_mass', 'atto', 'au', 'bar', 'barrel', 'bbl', 'blob', 'c', 'calorie', 'calorie_IT', 'calorie_th', 'carat', 'centi', 'codata', 'constants', 'convert_temperature', 'day', 'deci', 'degree', 'degree_Fahrenheit', 'deka', 'dyn', 'dyne', 'e', 'eV', 'electron_mass', 'electron_volt', 'elementary_charge', 'epsilon_0', 'erg', 'exa', 'exbi', 'femto', 'fermi', 'find', 'fine_structure', 'fluid_ounce', 'fluid_ounce_US', 'fluid_ounce_imp', 'foot', 'g', 'gallon', 'gallon_US', 'gallon_imp', 'gas_constant', 'gibi', 'giga', 'golden', 'golden_ratio', 'grain', 'gram', 'gravitational_constant', 'h', 'hbar', 'hectare', 'hecto', 'horsepower', 'hour', 'hp', 'inch', 'k', 'kgf', 'kibi', 'kilo', 'kilogram_force', 'kmh', 'knot', 'lambda2nu', 'lb', 'lbf', 'light_year', 'liter', 'litre', 'long_ton', 'm_e', 'm_n', 'm_p', 'm_u', 'mach', 'mebi', 'mega', 'metric_ton', 'micro', 'micron', 'mil', 'mile', 'milli', 'minute', 'mmHg', 'mph', 'mu_0', 'nano', 'nautical_mile', 'neutron_mass', 'nu2lambda', 'ounce', 'oz', 'parsec', 'pebi', 'peta', 'physical_constants', 'pi', 'pico', 'point', 'pound', 'pound_force', 'precision', 'proton_mass', 'psi', 'pt', 'quecto', 'quetta', 'ronna', 'ronto', 'short_ton', 'sigma', 'slinch', 'slug', 'speed_of_light', 'speed_of_sound', 'stone', 'survey_foot', 'survey_mile', 'tebi', 'tera', 'test', 'ton_TNT', 'torr', 'troy_ounce', 'troy_pound', 'u', 'unit', 'value', 'week', 'yard', 'year', 'yobi', 'yocto', 'yotta', 'zebi', 'zepto', 'zero_Celsius', 'zetta']\n"
          ]
        }
      ]
    },
    {
      "cell_type": "markdown",
      "source": [
        "**Meter**"
      ],
      "metadata": {
        "id": "mGQHdtFCrPXd"
      }
    },
    {
      "cell_type": "code",
      "source": [
        "# return the specified unit in meter\n",
        "\n",
        "from scipy import constants\n",
        "\n",
        "print(f\"The value in yotta is {constants.yotta}\")\n",
        "print(f\"The value in zetta is {constants.zetta}\")\n",
        "print(f\"The value in exa is {constants.exa}\")\n",
        "print(f\"The value in peta is {constants.peta}\")\n",
        "print(f\"The value in tera is {constants.tera}\")\n",
        "print(f\"The value in giga is {constants.giga}\")\n",
        "print(f\"The value in mega is {constants.mega}\")\n",
        "print(f\"The value in kilo is {constants.kilo}\")\n",
        "print(f\"The value in hecto is {constants.hecto}\")\n",
        "print(f\"The value in deka is {constants.deka}\")\n",
        "print(f\"The value in deci is {constants.deci}\")"
      ],
      "metadata": {
        "colab": {
          "base_uri": "https://localhost:8080/"
        },
        "id": "FzMoSEr4pZvh",
        "outputId": "5ed97636-b073-4a5d-fc95-84b481cce14a"
      },
      "execution_count": null,
      "outputs": [
        {
          "output_type": "stream",
          "name": "stdout",
          "text": [
            "The value in yotta is 1e+24\n",
            "The value in zetta is 1e+21\n",
            "The value in exa is 1e+18\n",
            "The value in peta is 1000000000000000.0\n",
            "The value in tera is 1000000000000.0\n",
            "The value in giga is 1000000000.0\n",
            "The value in mega is 1000000.0\n",
            "The value in kilo is 1000.0\n",
            "The value in hecto is 100.0\n",
            "The value in deka is 10.0\n",
            "The value in deci is 0.1\n"
          ]
        }
      ]
    },
    {
      "cell_type": "markdown",
      "source": [
        "**Bytes**"
      ],
      "metadata": {
        "id": "6QT3MIMprSa-"
      }
    },
    {
      "cell_type": "code",
      "source": [
        "# return the specified unit in bytes\n",
        "\n",
        "from scipy import constants\n",
        "\n",
        "print(f\"The value in kibi is {constants.kibi}\")\n",
        "print(f\"The value in mebi is {constants.mebi}\")\n",
        "print(f\"The value in gibi is {constants.gibi}\")\n",
        "print(f\"The value in tebi is {constants.tebi}\")\n",
        "print(f\"The value in pebi is {constants.pebi}\")\n",
        "print(f\"The value in exbi is {constants.exbi}\")\n",
        "print(f\"The value in zebi is {constants.zebi}\")"
      ],
      "metadata": {
        "colab": {
          "base_uri": "https://localhost:8080/"
        },
        "id": "n8jhpkwiqv0l",
        "outputId": "e3fa2e5c-7a9b-4b6c-c587-bf861c833068"
      },
      "execution_count": null,
      "outputs": [
        {
          "output_type": "stream",
          "name": "stdout",
          "text": [
            "The value in kibi is 1024\n",
            "The value in mebi is 1048576\n",
            "The value in gibi is 1073741824\n",
            "The value in tebi is 1099511627776\n",
            "The value in pebi is 1125899906842624\n",
            "The value in exbi is 1152921504606846976\n",
            "The value in zebi is 1180591620717411303424\n"
          ]
        }
      ]
    },
    {
      "cell_type": "markdown",
      "source": [
        "**Mass**"
      ],
      "metadata": {
        "id": "iC7yNDV8rVYV"
      }
    },
    {
      "cell_type": "code",
      "source": [
        "# return the specified unit in kg\n",
        "\n",
        "from scipy import constants\n",
        "\n",
        "print(f\"The value in gram is {constants.gram}\")\n",
        "print(f\"The value in metric_ton is {constants.metric_ton}\")\n",
        "print(f\"The value in grain is {constants.grain}\")\n",
        "print(f\"The value in lb is {constants.lb}\")\n",
        "print(f\"The value in pound is {constants.pound}\")\n",
        "print(f\"The value in oz is {constants.oz}\")\n",
        "print(f\"The value in ounce is {constants.ounce}\")"
      ],
      "metadata": {
        "colab": {
          "base_uri": "https://localhost:8080/"
        },
        "id": "5ryzW-6DqzSj",
        "outputId": "4bcb6ea0-bbfd-4e07-cea8-8cd1cd4cb4d6"
      },
      "execution_count": null,
      "outputs": [
        {
          "output_type": "stream",
          "name": "stdout",
          "text": [
            "The value in gram is 0.001\n",
            "The value in metric_ton is 1000.0\n",
            "The value in grain is 6.479891e-05\n",
            "The value in lb is 0.45359236999999997\n",
            "The value in pound is 0.45359236999999997\n",
            "The value in oz is 0.028349523124999998\n",
            "The value in ounce is 0.028349523124999998\n"
          ]
        }
      ]
    },
    {
      "cell_type": "markdown",
      "source": [
        "**Angle**"
      ],
      "metadata": {
        "id": "JU0C8a_-rX22"
      }
    },
    {
      "cell_type": "code",
      "source": [
        "# return the specified unit in radians\n",
        "\n",
        "from scipy import constants\n",
        "\n",
        "print(f\"The value in degree is {constants.degree}\")\n",
        "print(f\"The value in arcmin is {constants.arcmin}\")\n",
        "print(f\"The value in arcminute is {constants.arcminute}\")\n",
        "print(f\"The value in arcsec is {constants.arcsec}\")\n",
        "print(f\"The value in arcsecond is {constants.arcsecond}\")"
      ],
      "metadata": {
        "colab": {
          "base_uri": "https://localhost:8080/"
        },
        "id": "0p5YrZ_Sq5el",
        "outputId": "34a1929b-b67c-491b-e140-51f133507474"
      },
      "execution_count": null,
      "outputs": [
        {
          "output_type": "stream",
          "name": "stdout",
          "text": [
            "The value in degree is 0.017453292519943295\n",
            "The value in arcmin is 0.0002908882086657216\n",
            "The value in arcminute is 0.0002908882086657216\n",
            "The value in arcsec is 4.84813681109536e-06\n",
            "The value in arcsecond is 4.84813681109536e-06\n"
          ]
        }
      ]
    },
    {
      "cell_type": "markdown",
      "source": [
        "**Time**"
      ],
      "metadata": {
        "id": "JRboI-z3sItm"
      }
    },
    {
      "cell_type": "code",
      "source": [
        "# return the specified unit in seconds\n",
        "\n",
        "from scipy import constants\n",
        "\n",
        "print(f\"The value in minute is {constants.minute}\")\n",
        "print(f\"The value in hour is {constants.hour}\")\n",
        "print(f\"The value in day is {constants.day}\")\n",
        "print(f\"The value in week is {constants.week}\")\n",
        "print(f\"The value in year is {constants.year}\")\n",
        "print(f\"The value in julian_year is {constants.Julian_year}\")"
      ],
      "metadata": {
        "colab": {
          "base_uri": "https://localhost:8080/"
        },
        "id": "egUGvsAYsKbl",
        "outputId": "16148c64-27e1-4594-bc85-9ef8f42fc172"
      },
      "execution_count": null,
      "outputs": [
        {
          "output_type": "stream",
          "name": "stdout",
          "text": [
            "The value in minute is 60.0\n",
            "The value in hour is 3600.0\n",
            "The value in day is 86400.0\n",
            "The value in week is 604800.0\n",
            "The value in year is 31536000.0\n",
            "The value in julian_year is 31557600.0\n"
          ]
        }
      ]
    },
    {
      "cell_type": "markdown",
      "source": [
        "**Length**"
      ],
      "metadata": {
        "id": "hEj8YnTOXvT_"
      }
    },
    {
      "cell_type": "code",
      "source": [
        "# return the specified unit in meters\n",
        "\n",
        "from scipy import constants\n",
        "\n",
        "print(f\"The value of inch is {constants.inch}\")\n",
        "print(f\"The value of foot is {constants.foot}\")\n",
        "print(f\"The value of yard is {constants.yard}\")\n",
        "print(f\"The value of mile is {constants.mile}\")"
      ],
      "metadata": {
        "colab": {
          "base_uri": "https://localhost:8080/"
        },
        "id": "OYrqobsmXxmP",
        "outputId": "11b74f01-b665-49a5-ed84-33da69131cf7"
      },
      "execution_count": null,
      "outputs": [
        {
          "output_type": "stream",
          "name": "stdout",
          "text": [
            "The value of inch is 0.0254\n",
            "The value of foot is 0.30479999999999996\n",
            "The value of yard is 0.9143999999999999\n",
            "The value of mile is 1609.3439999999998\n"
          ]
        }
      ]
    },
    {
      "cell_type": "markdown",
      "source": [
        "**Pressure**"
      ],
      "metadata": {
        "id": "s99EHfxUYTXX"
      }
    },
    {
      "cell_type": "code",
      "source": [
        "# return the specified unit in pascales\n",
        "\n",
        "from scipy import constants\n",
        "\n",
        "print(f\"The value of atm is {constants.atm}\")\n",
        "print(f\"The value of atmosphere is {constants.atmosphere}\")\n",
        "print(f\"The value of bar is {constants.bar}\")"
      ],
      "metadata": {
        "colab": {
          "base_uri": "https://localhost:8080/"
        },
        "id": "Ojzab1wMYV6v",
        "outputId": "f029371d-d2b4-45d8-a3c0-455b51866a54"
      },
      "execution_count": null,
      "outputs": [
        {
          "output_type": "stream",
          "name": "stdout",
          "text": [
            "The value of atm is 101325.0\n",
            "The value of atmosphere is 101325.0\n",
            "The value of bar is 100000.0\n"
          ]
        }
      ]
    },
    {
      "cell_type": "markdown",
      "source": [
        "**Area**"
      ],
      "metadata": {
        "id": "eh9vHqSPYm1X"
      }
    },
    {
      "cell_type": "code",
      "source": [
        "# return the specified unit in square meters\n",
        "\n",
        "from scipy import constants\n",
        "\n",
        "print(f\"The value of hectare is {constants.hectare}\")\n",
        "print(f\"The value of acre is {constants.acre}\")"
      ],
      "metadata": {
        "colab": {
          "base_uri": "https://localhost:8080/"
        },
        "id": "Xe4xVt31YoNv",
        "outputId": "e4c6b550-b297-40a2-a7da-19dc43c88cff"
      },
      "execution_count": null,
      "outputs": [
        {
          "output_type": "stream",
          "name": "stdout",
          "text": [
            "The value of hectare is 10000.0\n",
            "The value of acre is 4046.8564223999992\n"
          ]
        }
      ]
    },
    {
      "cell_type": "markdown",
      "source": [
        "**Volume**"
      ],
      "metadata": {
        "id": "5wno-wdSY3ZS"
      }
    },
    {
      "cell_type": "code",
      "source": [
        "# return the specified unit in cubic meters\n",
        "\n",
        "from scipy import constants\n",
        "\n",
        "print(f\"The value of liter is {constants.liter}\")\n",
        "print(f\"The value of gallon is {constants.gallon}\")\n",
        "print(f\"The value of barrel is {constants.barrel}\")"
      ],
      "metadata": {
        "colab": {
          "base_uri": "https://localhost:8080/"
        },
        "id": "_GwRPo8_Y5WA",
        "outputId": "1960ac7e-bf1f-4f21-9b97-93916d1078e0"
      },
      "execution_count": null,
      "outputs": [
        {
          "output_type": "stream",
          "name": "stdout",
          "text": [
            "The value of liter is 0.001\n",
            "The value of gallon is 0.0037854117839999997\n",
            "The value of barrel is 0.15898729492799998\n"
          ]
        }
      ]
    },
    {
      "cell_type": "markdown",
      "source": [
        "**Speed**"
      ],
      "metadata": {
        "id": "0TjNLPzqZK64"
      }
    },
    {
      "cell_type": "code",
      "source": [
        "# return the specified unit in meters per second\n",
        "\n",
        "from scipy import constants\n",
        "\n",
        "print(f\"The value of kmh is {constants.kmh}\")\n",
        "print(f\"The value of mph is {constants.mph}\")\n",
        "print(f\"The value of speed_of_sound is {constants.speed_of_sound}\")"
      ],
      "metadata": {
        "colab": {
          "base_uri": "https://localhost:8080/"
        },
        "id": "sdTRJpd5ZM5c",
        "outputId": "ae4ab44c-365e-4fe2-abbc-0a19798ef952"
      },
      "execution_count": null,
      "outputs": [
        {
          "output_type": "stream",
          "name": "stdout",
          "text": [
            "The value of kmh is 0.2777777777777778\n",
            "The value of mph is 0.44703999999999994\n",
            "The value of speed_of_sound is 340.5\n"
          ]
        }
      ]
    },
    {
      "cell_type": "markdown",
      "source": [
        "**Temperature**"
      ],
      "metadata": {
        "id": "zYoDDOPIaZSx"
      }
    },
    {
      "cell_type": "code",
      "source": [
        "# return the specified unit in kelvin\n",
        "\n",
        "from scipy import constants\n",
        "\n",
        "print(f\"The value of zero_celsius is {constants.zero_Celsius}\")\n",
        "print(f\"The value of degree_fareheit is {constants.degree_Fahrenheit}\")"
      ],
      "metadata": {
        "colab": {
          "base_uri": "https://localhost:8080/"
        },
        "id": "Uk-UIxBEadST",
        "outputId": "41c00caf-120e-485c-fd3a-dfaee883d56d"
      },
      "execution_count": null,
      "outputs": [
        {
          "output_type": "stream",
          "name": "stdout",
          "text": [
            "The value of zero_celsius is 273.15\n",
            "The value of degree_fareheit is 0.5555555555555556\n"
          ]
        }
      ]
    },
    {
      "cell_type": "markdown",
      "source": [
        "**Energy**"
      ],
      "metadata": {
        "id": "3m6ZUUQEau1n"
      }
    },
    {
      "cell_type": "code",
      "source": [
        "# return the specified unit in joules\n",
        "\n",
        "from scipy import constants\n",
        "\n",
        "print(f\"The value of calorie is {constants.calorie}\")\n",
        "print(f\"The value of eV is {constants.eV}\")\n",
        "print(f\"The value of electron_volt is {constants.electron_volt}\")"
      ],
      "metadata": {
        "colab": {
          "base_uri": "https://localhost:8080/"
        },
        "id": "TTlZJ3v4aw23",
        "outputId": "2ac1a9fe-62dd-4dd0-b13e-b7d4133d6cf3"
      },
      "execution_count": null,
      "outputs": [
        {
          "output_type": "stream",
          "name": "stdout",
          "text": [
            "The value of calorie is 4.184\n",
            "The value of eV is 1.602176634e-19\n",
            "The value of electron_volt is 1.602176634e-19\n"
          ]
        }
      ]
    },
    {
      "cell_type": "markdown",
      "source": [
        "**Power**"
      ],
      "metadata": {
        "id": "WxTohp3dbJan"
      }
    },
    {
      "cell_type": "code",
      "source": [
        "# return the specified unit in watts\n",
        "\n",
        "from scipy import constants\n",
        "\n",
        "print(f\"The value of hp is {constants.hp}\")\n",
        "print(f\"The value of horsepower is {constants.horsepower}\")"
      ],
      "metadata": {
        "colab": {
          "base_uri": "https://localhost:8080/"
        },
        "id": "l5uj1KICbLV_",
        "outputId": "8edb07f6-de8c-4580-de3c-ac6c069d085f"
      },
      "execution_count": null,
      "outputs": [
        {
          "output_type": "stream",
          "name": "stdout",
          "text": [
            "The value of hp is 745.6998715822701\n",
            "The value of horsepower is 745.6998715822701\n"
          ]
        }
      ]
    },
    {
      "cell_type": "markdown",
      "source": [
        "**Force**"
      ],
      "metadata": {
        "id": "MIUQxZ9CbcMH"
      }
    },
    {
      "cell_type": "code",
      "source": [
        "# return the specified unit in newton\n",
        "\n",
        "from scipy import constants\n",
        "\n",
        "print(f\"The value of dyn is {constants.dyn}\")\n",
        "print(f\"The value of pound_force is {constants.pound_force}\")\n",
        "print(f\"The value of kgf is {constants.kgf}\")"
      ],
      "metadata": {
        "colab": {
          "base_uri": "https://localhost:8080/"
        },
        "id": "uSAQZ1BWbdwH",
        "outputId": "0d82b3fd-4352-44c9-8d7d-cfdd53f6a9eb"
      },
      "execution_count": null,
      "outputs": [
        {
          "output_type": "stream",
          "name": "stdout",
          "text": [
            "The value of dyn is 1e-05\n",
            "The value of pound_force is 4.4482216152605\n",
            "The value of kgf is 9.80665\n"
          ]
        }
      ]
    },
    {
      "cell_type": "markdown",
      "source": [
        "**SciPy Optimizers**\n",
        "\n",
        "---\n",
        "\n"
      ],
      "metadata": {
        "id": "y55tYiydcIyI"
      }
    },
    {
      "cell_type": "code",
      "source": [
        "# find the root of x+cos(x)\n",
        "\n",
        "from scipy.optimize import root\n",
        "from math import cos\n",
        "\n",
        "def equation(x):\n",
        "  return x+cos(x)\n",
        "\n",
        "root_value=root(equation, 0)\n",
        "\n",
        "print(root_value.x)"
      ],
      "metadata": {
        "colab": {
          "base_uri": "https://localhost:8080/"
        },
        "id": "MJ9SsbIHk3mg",
        "outputId": "8154c85d-57ce-46dd-97e0-5529d82aed21"
      },
      "execution_count": null,
      "outputs": [
        {
          "output_type": "stream",
          "name": "stdout",
          "text": [
            "[-0.73908513]\n"
          ]
        },
        {
          "output_type": "stream",
          "name": "stderr",
          "text": [
            "<ipython-input-38-ce0076e8c52a>:7: DeprecationWarning: Conversion of an array with ndim > 0 to a scalar is deprecated, and will error in future. Ensure you extract a single element from your array before performing this operation. (Deprecated NumPy 1.25.)\n",
            "  return x+cos(x)\n"
          ]
        }
      ]
    },
    {
      "cell_type": "code",
      "source": [
        "# print all information about the solution\n",
        "print(root_value)"
      ],
      "metadata": {
        "colab": {
          "base_uri": "https://localhost:8080/"
        },
        "id": "lpNQOMkUmgPA",
        "outputId": "aae84eb2-2e19-4d08-9f75-d0026ea7c120"
      },
      "execution_count": null,
      "outputs": [
        {
          "output_type": "stream",
          "name": "stdout",
          "text": [
            " message: The solution converged.\n",
            " success: True\n",
            "  status: 1\n",
            "     fun: [ 0.000e+00]\n",
            "       x: [-7.391e-01]\n",
            "  method: hybr\n",
            "    nfev: 11\n",
            "    fjac: [[-1.000e+00]]\n",
            "       r: [-1.674e+00]\n",
            "     qtf: [-2.668e-13]\n"
          ]
        }
      ]
    },
    {
      "cell_type": "markdown",
      "source": [
        "**Minimizing a Function**\n",
        "\n"
      ],
      "metadata": {
        "id": "LJSgqKFRm6Ih"
      }
    },
    {
      "cell_type": "markdown",
      "source": [
        "**method -** 'CG', 'BFGS', 'Newton-CG', 'L-BFGS-B', 'TNC', 'COBYLA', 'SLSQP'"
      ],
      "metadata": {
        "id": "UR4lcD99oASA"
      }
    },
    {
      "cell_type": "code",
      "source": [
        "# minimize the function x^2 + x + 2 with BFGS method\n",
        "\n",
        "from scipy.optimize import minimize\n",
        "\n",
        "def equation(x):\n",
        "  return x**2+x+2\n",
        "\n",
        "min_value= minimize(equation, 0, method='BFGS')\n",
        "\n",
        "print(min_value.x)"
      ],
      "metadata": {
        "colab": {
          "base_uri": "https://localhost:8080/"
        },
        "id": "BhOSdQFPm_JA",
        "outputId": "ee53c2c0-8c75-42ac-eb67-2a570f01eb63"
      },
      "execution_count": null,
      "outputs": [
        {
          "output_type": "stream",
          "name": "stdout",
          "text": [
            "[-0.50000001]\n"
          ]
        }
      ]
    },
    {
      "cell_type": "code",
      "source": [
        "# print all information about the solution\n",
        "print(min_value)"
      ],
      "metadata": {
        "colab": {
          "base_uri": "https://localhost:8080/"
        },
        "id": "b_-5RcZ8nv7Y",
        "outputId": "d977d579-84d1-4d00-e384-8af2b9819aba"
      },
      "execution_count": null,
      "outputs": [
        {
          "output_type": "stream",
          "name": "stdout",
          "text": [
            "  message: Optimization terminated successfully.\n",
            "  success: True\n",
            "   status: 0\n",
            "      fun: 1.75\n",
            "        x: [-5.000e-01]\n",
            "      nit: 2\n",
            "      jac: [ 0.000e+00]\n",
            " hess_inv: [[ 5.000e-01]]\n",
            "     nfev: 8\n",
            "     njev: 4\n"
          ]
        }
      ]
    },
    {
      "cell_type": "markdown",
      "source": [
        "**SciPy Sparse Data**\n",
        "\n",
        "---\n",
        "\n"
      ],
      "metadata": {
        "id": "skHTSWxKUhed"
      }
    },
    {
      "cell_type": "markdown",
      "source": [
        "**Sparse data** is data set where most of the item values are zero.\n",
        "\n",
        "**Dense array** is the opposite of a sparse array (most of the values are not zero).\n",
        "\n",
        "Sparse data is used in scientific computing (partial derivation)."
      ],
      "metadata": {
        "id": "cr_gdBo3UnY7"
      }
    },
    {
      "cell_type": "markdown",
      "source": [
        "SciPy has a module, **scipy.sparse** that provides functions to deal with sparse data.\n",
        "\n",
        "There are two types of sparse matrices:\n",
        "\n",
        "**CSC** - Compressed Sparse Column. For efficient arithmetic, fast column slicing.\n",
        "\n",
        "**CSR** - Compressed Sparse Row. For fast row slicing, faster matrix vector products."
      ],
      "metadata": {
        "id": "j7aouS_XWXRF"
      }
    },
    {
      "cell_type": "markdown",
      "source": [
        "**CSR Matrix**"
      ],
      "metadata": {
        "id": "5sXq0WLKW_ZE"
      }
    },
    {
      "cell_type": "code",
      "source": [
        "# create a CSR matrix from an array\n",
        "\n",
        "import numpy as np\n",
        "from scipy.sparse import csr_matrix\n",
        "\n",
        "arr=np.array([0, 0, 0, 0, 0, 2, 3, 0, 2])\n",
        "print(csr_matrix(arr))"
      ],
      "metadata": {
        "colab": {
          "base_uri": "https://localhost:8080/"
        },
        "id": "_O_TcdsmXKRi",
        "outputId": "d678e475-aea3-443c-c199-b78a12de6e57"
      },
      "execution_count": null,
      "outputs": [
        {
          "output_type": "stream",
          "name": "stdout",
          "text": [
            "<Compressed Sparse Row sparse matrix of dtype 'int64'\n",
            "\twith 3 stored elements and shape (1, 9)>\n",
            "  Coords\tValues\n",
            "  (0, 5)\t2\n",
            "  (0, 6)\t3\n",
            "  (0, 8)\t2\n"
          ]
        }
      ]
    },
    {
      "cell_type": "code",
      "source": [
        "# show the stored data that are not zero\n",
        "import numpy as np\n",
        "from scipy.sparse import csr_matrix\n",
        "\n",
        "arr=np.array([[0, 0, 0], [0, 0, 2], [2, 0, 3]])\n",
        "print(csr_matrix(arr).data)"
      ],
      "metadata": {
        "colab": {
          "base_uri": "https://localhost:8080/"
        },
        "id": "_2NUbALAZmKy",
        "outputId": "6aaf07e1-5ce8-4427-b28b-83659c129197"
      },
      "execution_count": null,
      "outputs": [
        {
          "output_type": "stream",
          "name": "stdout",
          "text": [
            "[2 2 3]\n"
          ]
        }
      ]
    },
    {
      "cell_type": "code",
      "source": [
        "# count the nonzero numbers\n",
        "import numpy as np\n",
        "from scipy.sparse import csr_matrix\n",
        "\n",
        "arr=np.array([[0, 0, 0], [0, 0, 2], [2, 0, 3]])\n",
        "print(csr_matrix(arr).count_nonzero())"
      ],
      "metadata": {
        "colab": {
          "base_uri": "https://localhost:8080/"
        },
        "id": "yL_37FpraIKi",
        "outputId": "9bed67d0-4180-4587-be9a-1b6d47ec878d"
      },
      "execution_count": null,
      "outputs": [
        {
          "output_type": "stream",
          "name": "stdout",
          "text": [
            "3\n"
          ]
        }
      ]
    },
    {
      "cell_type": "code",
      "source": [
        "# removing zero entries from the matrix\n",
        "import numpy as np\n",
        "from scipy.sparse import csr_matrix\n",
        "\n",
        "arr=np.array([[0, 0, 0], [0, 0, 2], [2, 0, 3]])\n",
        "\n",
        "mat=csr_matrix(arr)\n",
        "mat.eliminate_zeros()\n",
        "print(mat)"
      ],
      "metadata": {
        "colab": {
          "base_uri": "https://localhost:8080/"
        },
        "id": "sSiJn2VFbiV_",
        "outputId": "a3644248-afea-40ab-d174-4025f913d18e"
      },
      "execution_count": null,
      "outputs": [
        {
          "output_type": "stream",
          "name": "stdout",
          "text": [
            "<Compressed Sparse Row sparse matrix of dtype 'int64'\n",
            "\twith 3 stored elements and shape (3, 3)>\n",
            "  Coords\tValues\n",
            "  (1, 2)\t2\n",
            "  (2, 0)\t2\n",
            "  (2, 2)\t3\n"
          ]
        }
      ]
    },
    {
      "cell_type": "code",
      "source": [
        "# eliminating duplicates by adding them\n",
        "import numpy as np\n",
        "from scipy.sparse import csr_matrix\n",
        "\n",
        "arr=np.array([[0, 0, 0], [0, 0, 2], [2, 0, 3]])\n",
        "\n",
        "mat=csr_matrix(arr)\n",
        "mat.sum_duplicates\n",
        "print(mat)"
      ],
      "metadata": {
        "colab": {
          "base_uri": "https://localhost:8080/"
        },
        "id": "YKGnEk00d982",
        "outputId": "81fd432a-c73f-4dfd-8049-4fdca57e211e"
      },
      "execution_count": null,
      "outputs": [
        {
          "output_type": "stream",
          "name": "stdout",
          "text": [
            "<Compressed Sparse Row sparse matrix of dtype 'int64'\n",
            "\twith 3 stored elements and shape (3, 3)>\n",
            "  Coords\tValues\n",
            "  (1, 2)\t2\n",
            "  (2, 0)\t2\n",
            "  (2, 2)\t3\n"
          ]
        }
      ]
    },
    {
      "cell_type": "code",
      "source": [
        "# converting from CSR to CSC\n",
        "import numpy as np\n",
        "from scipy.sparse import csr_matrix\n",
        "\n",
        "arr=np.array([[0, 0, 0], [0, 0, 2], [2, 0, 3]])\n",
        "\n",
        "print(csr_matrix(arr).tocsc())"
      ],
      "metadata": {
        "colab": {
          "base_uri": "https://localhost:8080/"
        },
        "id": "kz-U9vdJeMoL",
        "outputId": "b0dd5d8e-33b1-4a87-9035-36c4cd9175ce"
      },
      "execution_count": null,
      "outputs": [
        {
          "output_type": "stream",
          "name": "stdout",
          "text": [
            "<Compressed Sparse Column sparse matrix of dtype 'int64'\n",
            "\twith 3 stored elements and shape (3, 3)>\n",
            "  Coords\tValues\n",
            "  (2, 0)\t2\n",
            "  (1, 2)\t2\n",
            "  (2, 2)\t3\n"
          ]
        }
      ]
    },
    {
      "cell_type": "markdown",
      "source": [
        "**SciPy Graphs**\n",
        "\n",
        "---\n",
        "\n"
      ],
      "metadata": {
        "id": "_vvGnxQfednS"
      }
    },
    {
      "cell_type": "markdown",
      "source": [
        "![scipy_graph.png](data:image/png;base64,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)"
      ],
      "metadata": {
        "id": "vKJZ8SAseizK"
      }
    },
    {
      "cell_type": "markdown",
      "source": [
        "The adjency matrix:\n",
        "\n",
        "      A B C\n",
        "   A: [0 1 2]  \n",
        "\n",
        "   B: [1 0 0]\n",
        "\n",
        "   C: [2 0 0]"
      ],
      "metadata": {
        "id": "Sed_D94yhA5s"
      }
    },
    {
      "cell_type": "code",
      "source": [
        "# find all of the connected components\n",
        "\n",
        "import numpy as np\n",
        "from scipy.sparse.csgraph import connected_components\n",
        "from scipy.sparse import csr_matrix\n",
        "\n",
        "arr = np.array([\n",
        "  [0, 1, 2],\n",
        "  [1, 0, 0],\n",
        "  [2, 0, 0]\n",
        "])\n",
        "\n",
        "newarr = csr_matrix(arr)\n",
        "\n",
        "print(connected_components(newarr))"
      ],
      "metadata": {
        "colab": {
          "base_uri": "https://localhost:8080/"
        },
        "id": "r79YtvVKf4wq",
        "outputId": "f72b484f-b876-4749-8a98-b71e8bd26c91"
      },
      "execution_count": null,
      "outputs": [
        {
          "output_type": "stream",
          "name": "stdout",
          "text": [
            "(1, array([0, 0, 0], dtype=int32))\n"
          ]
        }
      ]
    },
    {
      "cell_type": "code",
      "source": [
        "# find the shortest path from element 1 to 2 by dijkstra method\n",
        "\n",
        "import numpy as np\n",
        "from scipy.sparse.csgraph import dijkstra\n",
        "from scipy.sparse import csr_matrix\n",
        "\n",
        "arr = np.array([\n",
        "  [0, 1, 2],\n",
        "  [1, 0, 0],\n",
        "  [2, 0, 0]\n",
        "])\n",
        "\n",
        "newarr = csr_matrix(arr)\n",
        "\n",
        "print(dijkstra(newarr, return_predecessors=True, indices=0))"
      ],
      "metadata": {
        "colab": {
          "base_uri": "https://localhost:8080/"
        },
        "id": "HzPDqEhDiLyT",
        "outputId": "c430e08f-4ea6-4d01-93b1-c59d292eec9e"
      },
      "execution_count": null,
      "outputs": [
        {
          "output_type": "stream",
          "name": "stdout",
          "text": [
            "(array([0., 1., 2.]), array([-9999,     0,     0], dtype=int32))\n"
          ]
        }
      ]
    },
    {
      "cell_type": "code",
      "source": [
        "# find the shortest path from element 1 to 2 by floyd warshall method\n",
        "\n",
        "import numpy as np\n",
        "from scipy.sparse.csgraph import floyd_warshall\n",
        "from scipy.sparse import csr_matrix\n",
        "\n",
        "arr = np.array([\n",
        "  [0, 1, 2],\n",
        "  [1, 0, 0],\n",
        "  [2, 0, 0]\n",
        "])\n",
        "\n",
        "newarr = csr_matrix(arr)\n",
        "\n",
        "print(floyd_warshall(newarr, return_predecessors=True))"
      ],
      "metadata": {
        "colab": {
          "base_uri": "https://localhost:8080/"
        },
        "id": "woYtFxdIi6_b",
        "outputId": "7d46cad4-8022-40af-d586-6eacc34ade91"
      },
      "execution_count": null,
      "outputs": [
        {
          "output_type": "stream",
          "name": "stdout",
          "text": [
            "(array([[0., 1., 2.],\n",
            "       [1., 0., 3.],\n",
            "       [2., 3., 0.]]), array([[-9999,     0,     0],\n",
            "       [    1, -9999,     0],\n",
            "       [    2,     0, -9999]], dtype=int32))\n"
          ]
        }
      ]
    },
    {
      "cell_type": "code",
      "source": [
        "# find the shortest path from element 1 to 2 by bellman ford method\n",
        "\n",
        "import numpy as np\n",
        "from scipy.sparse.csgraph import bellman_ford\n",
        "from scipy.sparse import csr_matrix\n",
        "\n",
        "arr = np.array([\n",
        "  [0, 1, 2],\n",
        "  [1, 0, 0],\n",
        "  [2, 0, 0]\n",
        "])\n",
        "\n",
        "newarr = csr_matrix(arr)\n",
        "\n",
        "print(bellman_ford(newarr, return_predecessors=True, indices=0))"
      ],
      "metadata": {
        "colab": {
          "base_uri": "https://localhost:8080/"
        },
        "id": "BGHgzxSWjG2o",
        "outputId": "95491870-52b5-4144-a6b8-a65b93e5391f"
      },
      "execution_count": null,
      "outputs": [
        {
          "output_type": "stream",
          "name": "stdout",
          "text": [
            "(array([0., 1., 2.]), array([-9999,     0,     0], dtype=int32))\n"
          ]
        }
      ]
    },
    {
      "cell_type": "markdown",
      "source": [
        "**Depth First Order (DFS)**"
      ],
      "metadata": {
        "id": "ziujXR87jQLz"
      }
    },
    {
      "cell_type": "code",
      "source": [
        "# Traverse the graph depth first for given adjacency matrix\n",
        "\n",
        "import numpy as np\n",
        "from scipy.sparse.csgraph import depth_first_order\n",
        "from scipy.sparse import csr_matrix\n",
        "\n",
        "arr = np.array([\n",
        "  [0, 1, 0, 1],\n",
        "  [1, 1, 1, 1],\n",
        "  [2, 1, 1, 0],\n",
        "  [0, 1, 0, 1]\n",
        "])\n",
        "\n",
        "newarr = csr_matrix(arr)\n",
        "\n",
        "print(depth_first_order(newarr, 1))"
      ],
      "metadata": {
        "colab": {
          "base_uri": "https://localhost:8080/"
        },
        "id": "6FlEAg81j0-M",
        "outputId": "e4d06280-1e15-4362-85ab-e88f3b33507c"
      },
      "execution_count": null,
      "outputs": [
        {
          "output_type": "stream",
          "name": "stdout",
          "text": [
            "(array([1, 0, 3, 2], dtype=int32), array([    1, -9999,     1,     0], dtype=int32))\n"
          ]
        }
      ]
    },
    {
      "cell_type": "markdown",
      "source": [
        "**Breadth First Order (BFS)**"
      ],
      "metadata": {
        "id": "82Tn9SM7j6xb"
      }
    },
    {
      "cell_type": "code",
      "source": [
        "# Traverse the graph breadth first for given adjacency matrix\n",
        "\n",
        "import numpy as np\n",
        "from scipy.sparse.csgraph import breadth_first_order\n",
        "from scipy.sparse import csr_matrix\n",
        "\n",
        "arr = np.array([\n",
        "  [0, 1, 0, 1],\n",
        "  [1, 1, 1, 1],\n",
        "  [2, 1, 1, 0],\n",
        "  [0, 1, 0, 1]\n",
        "])\n",
        "\n",
        "newarr = csr_matrix(arr)\n",
        "\n",
        "print(breadth_first_order(newarr, 1))"
      ],
      "metadata": {
        "colab": {
          "base_uri": "https://localhost:8080/"
        },
        "id": "VtvwBK_VkAdO",
        "outputId": "3388c94e-c230-4a30-c9e4-0d1ef191696c"
      },
      "execution_count": null,
      "outputs": [
        {
          "output_type": "stream",
          "name": "stdout",
          "text": [
            "(array([1, 0, 2, 3], dtype=int32), array([    1, -9999,     1,     1], dtype=int32))\n"
          ]
        }
      ]
    },
    {
      "cell_type": "markdown",
      "source": [
        "**SciPy Spatial Data**\n",
        "\n",
        "---\n",
        "\n"
      ],
      "metadata": {
        "id": "fK99eZrkoYIX"
      }
    },
    {
      "cell_type": "markdown",
      "source": [
        "**Spatial data** refers to data that is represented in a geometric space.\n",
        "\n",
        "example - points on a coordinate system, finding if a point is inside a boundary or not.\n",
        "\n",
        "module name is **scipy.spatial**\n",
        "\n",
        "\n",
        "\n",
        "A **triangulation** of a polygon is to divide the polygon into multiple triangles with which we can compute an area of the polygon.\n",
        "\n",
        "A triangulation with points means creating surface composed triangles in which all of the given points are on at least one vertx of any triangle in the surface.\n",
        "\n",
        "method name is **Delaunay**"
      ],
      "metadata": {
        "id": "M4P0i2yKTNsF"
      }
    },
    {
      "cell_type": "code",
      "source": [
        "# creating a triangulation\n",
        "\n",
        "import numpy as np\n",
        "from scipy.spatial import Delaunay\n",
        "import matplotlib.pyplot as plt\n",
        "\n",
        "points = np.array([\n",
        "  [2, 4],\n",
        "  [1, 4],\n",
        "  [3, 0],\n",
        "  [2, 2],\n",
        "  [4, 1]\n",
        "])\n",
        "\n",
        "simplices=Delaunay(points).simplices\n",
        "# note: the simplices property creates a generalization of the triangle notation\n",
        "\n",
        "plt.triplot(points[:, 0], points[:, 1], simplices)\n",
        "plt.scatter(points[:, 0], points[:, 1], color='r')\n",
        "\n",
        "plt.show()"
      ],
      "metadata": {
        "colab": {
          "base_uri": "https://localhost:8080/",
          "height": 430
        },
        "id": "LdJCm-BzU6_z",
        "outputId": "c5647e9a-8565-40cf-9b70-2995cd6ae118"
      },
      "execution_count": 2,
      "outputs": [
        {
          "output_type": "display_data",
          "data": {
            "text/plain": [
              "<Figure size 640x480 with 1 Axes>"
            ],
            "image/png": "[encoded data removed]"
          },
          "metadata": {}
        }
      ]
    },
    {
      "cell_type": "markdown",
      "source": [
        "**Convex Hull**"
      ],
      "metadata": {
        "id": "7a9Wb49rWbUr"
      }
    },
    {
      "cell_type": "markdown",
      "source": [
        "A **convex hull** is the smallest ploygon that covers all of the given points.\n",
        "\n",
        "Use the **ConvexHull()** method to create a convex hull."
      ],
      "metadata": {
        "id": "mHZgbaWWWeKd"
      }
    },
    {
      "cell_type": "code",
      "source": [
        "# create a convex hull\n",
        "\n",
        "import numpy as np\n",
        "from scipy.spatial import ConvexHull\n",
        "import matplotlib.pyplot as plt\n",
        "\n",
        "points = np.array([\n",
        "  [2, 4],\n",
        "  [3, 4],\n",
        "  [3, 0],\n",
        "  [2, 2],\n",
        "  [4, 1],\n",
        "  [1, 2],\n",
        "  [5, 0],\n",
        "  [3, 1],\n",
        "  [1, 2],\n",
        "  [0, 2]\n",
        "])\n",
        "\n",
        "hull=ConvexHull(points)\n",
        "hull_points=hull.simplices\n",
        "\n",
        "plt.scatter(points[:, 0], points[:, 1])\n",
        "for simplex in hull_points:\n",
        "  plt.plot(points[simplex, 0], points[simplex, 1], 'k-')\n",
        "\n",
        "plt.show()"
      ],
      "metadata": {
        "colab": {
          "base_uri": "https://localhost:8080/",
          "height": 430
        },
        "id": "_F64u-TiWx0e",
        "outputId": "52381505-6fea-44d8-ad49-8ed18042833d"
      },
      "execution_count": 6,
      "outputs": [
        {
          "output_type": "display_data",
          "data": {
            "text/plain": [
              "<Figure size 640x480 with 1 Axes>"
            ],
            "image/png": "[encoded data removed]"
          },
          "metadata": {}
        }
      ]
    },
    {
      "cell_type": "markdown",
      "source": [
        "**KDTrees**"
      ],
      "metadata": {
        "id": "FuCshBC5X64G"
      }
    },
    {
      "cell_type": "markdown",
      "source": [
        "**KDTrees** are a datastructure optimized for nearest neighbor queries.\n",
        "\n",
        "eample - in a set of points using KDTrees we can efficiently ask which points are nearest to a certain given point.\n",
        "\n",
        "The **KDTree()** method returns a KDTree object.\n",
        "\n",
        "The **query()** method returns the distance to the nearest neighbor and the location of the neighbors."
      ],
      "metadata": {
        "id": "x0Dew76vX9wC"
      }
    },
    {
      "cell_type": "code",
      "source": [
        "# find the nearest neighbor to point (1, 1)\n",
        "\n",
        "from scipy.spatial import KDTree\n",
        "\n",
        "points = [(1, -1), (2, 3), (-2, 3), (2, -3)]\n",
        "\n",
        "kdtree = KDTree(points)\n",
        "res = kdtree.query((1, 1))\n",
        "print(res)"
      ],
      "metadata": {
        "colab": {
          "base_uri": "https://localhost:8080/"
        },
        "id": "VJiakP6wZ-zW",
        "outputId": "a96e22d5-e682-4a5e-a05a-0d03e26a50c9"
      },
      "execution_count": 7,
      "outputs": [
        {
          "output_type": "stream",
          "name": "stdout",
          "text": [
            "(2.0, np.int64(0))\n"
          ]
        }
      ]
    },
    {
      "cell_type": "markdown",
      "source": [
        "**Distance Matrix**"
      ],
      "metadata": {
        "id": "CX7f_FhqatZq"
      }
    },
    {
      "cell_type": "markdown",
      "source": [
        "The distance between two vectors may not only be the length of straight line between them, it can also be the angle between them from origin, or number of unit steps required etc.\n",
        "\n",
        "Many of the Machine Learning algorithm's performance depends greatly on distance metrices. Eample- \"K Nearest Neighbors\", or \"K Means\" etc."
      ],
      "metadata": {
        "id": "KYLgCjMjazAi"
      }
    },
    {
      "cell_type": "markdown",
      "source": [
        "**Euclidean Distance**"
      ],
      "metadata": {
        "id": "TK8VICoIiESo"
      }
    },
    {
      "cell_type": "code",
      "source": [
        "# find the euclidean distance between given points\n",
        "\n",
        "from scipy.spatial.distance import euclidean\n",
        "\n",
        "point1=(1, 0)\n",
        "point2=(10, 2)\n",
        "\n",
        "dis=euclidean(point1, point2)\n",
        "print(f\"The euclidean distance is {dis}\")"
      ],
      "metadata": {
        "colab": {
          "base_uri": "https://localhost:8080/"
        },
        "id": "jBQzbpOla666",
        "outputId": "f99e1ac6-becf-4391-81cf-4407c1b4550b"
      },
      "execution_count": 11,
      "outputs": [
        {
          "output_type": "stream",
          "name": "stdout",
          "text": [
            "The euclidean distance is 9.219544457292887\n"
          ]
        }
      ]
    },
    {
      "cell_type": "markdown",
      "source": [
        "**Cityblock Distance (Manhattan Distance)**"
      ],
      "metadata": {
        "id": "y9M8tLTmbmrw"
      }
    },
    {
      "cell_type": "markdown",
      "source": [
        "Is the distance computed using 4 degrees of movement.\n",
        "\n",
        "Example - we can only move: up, down, right, or left, not diagonally."
      ],
      "metadata": {
        "id": "q-6blwGDbtoM"
      }
    },
    {
      "cell_type": "code",
      "source": [
        "# find the manhattan distance between given points\n",
        "\n",
        "from scipy.spatial.distance import cityblock\n",
        "\n",
        "point1=(1, 0)\n",
        "point2=(10, 2)\n",
        "\n",
        "dis=cityblock(point1, point2)\n",
        "print(f\"The manhattan distance is {dis}\")"
      ],
      "metadata": {
        "colab": {
          "base_uri": "https://localhost:8080/"
        },
        "id": "UCmuZK2DbzEq",
        "outputId": "b3c3d041-9e8a-45e7-aa82-96ca018f0314"
      },
      "execution_count": 14,
      "outputs": [
        {
          "output_type": "stream",
          "name": "stdout",
          "text": [
            "The manhattan distance is 11\n"
          ]
        }
      ]
    },
    {
      "cell_type": "markdown",
      "source": [
        "**Cosine Distance**"
      ],
      "metadata": {
        "id": "ijj472IWcCWB"
      }
    },
    {
      "cell_type": "markdown",
      "source": [
        "Is the value of cosine angle between the two points A and B."
      ],
      "metadata": {
        "id": "ATntkL49cGEw"
      }
    },
    {
      "cell_type": "code",
      "source": [
        "# find the cosine distance between given points\n",
        "\n",
        "from scipy.spatial.distance import cosine\n",
        "\n",
        "point1=(1, 0)\n",
        "point2=(10, 2)\n",
        "\n",
        "dis=cosine(point1, point2)\n",
        "print(f\"The cosine distance is {dis}\")"
      ],
      "metadata": {
        "colab": {
          "base_uri": "https://localhost:8080/"
        },
        "id": "S14N-aUvcH1w",
        "outputId": "59a497c6-5111-4d1f-cbf9-f405b3e0cd4e"
      },
      "execution_count": 15,
      "outputs": [
        {
          "output_type": "stream",
          "name": "stdout",
          "text": [
            "The cosine distance is 0.019419324309079777\n"
          ]
        }
      ]
    },
    {
      "cell_type": "markdown",
      "source": [
        "**Hamming Distance**"
      ],
      "metadata": {
        "id": "8-WXP21FcQJ7"
      }
    },
    {
      "cell_type": "markdown",
      "source": [
        "Is the proportion of bits where two bits are different.\n",
        "\n",
        "It's a way to measure distance for binary sequences."
      ],
      "metadata": {
        "id": "pUtfscqzcT8s"
      }
    },
    {
      "cell_type": "code",
      "source": [
        "# find the hamming distance between given points\n",
        "\n",
        "from scipy.spatial.distance import hamming\n",
        "\n",
        "point1=(1, 0, 1)\n",
        "point2=(0, 1, 1)\n",
        "\n",
        "dis=hamming(point1, point2)\n",
        "print(f\"The hamming distance is {dis}\")"
      ],
      "metadata": {
        "colab": {
          "base_uri": "https://localhost:8080/"
        },
        "id": "yM6gz7JQcPXg",
        "outputId": "d9d8ee30-7863-49a8-ed83-d550ddced2fd"
      },
      "execution_count": 19,
      "outputs": [
        {
          "output_type": "stream",
          "name": "stdout",
          "text": [
            "The hamming distance is 0.6666666666666666\n"
          ]
        }
      ]
    },
    {
      "cell_type": "markdown",
      "source": [
        "**SciPy Matlab Arrays**"
      ],
      "metadata": {
        "id": "eZWxklBwiK9t"
      }
    }
  ]
}